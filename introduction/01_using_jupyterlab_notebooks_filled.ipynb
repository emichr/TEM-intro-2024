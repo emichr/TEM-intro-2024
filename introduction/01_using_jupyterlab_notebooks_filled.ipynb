{
 "cells": [
  {
   "cell_type": "markdown",
   "metadata": {},
   "source": [
    "# Using a Jupyter Notebook in JupyterLab"
   ]
  },
  {
   "cell_type": "markdown",
   "metadata": {},
   "source": [
    "## Jupyter Notebook? JupyterLab?"
   ]
  },
  {
   "cell_type": "markdown",
   "metadata": {},
   "source": [
    "A Jupyter Notebook is what you are looking at right now. These are files which have a `.ipynb` file extension. You can see an example of this in the navigator to the left.\n",
    "\n",
    "JupyterLab is a software application which runs these Jupyter Notebook in a browser, like Firefox, Chrome, or any modern web browser.\n",
    "\n",
    "Thus, when we talk about a Notebook, we refer to the file. While JupyterLab is the \"graphical\" user interface."
   ]
  },
  {
   "cell_type": "markdown",
   "metadata": {},
   "source": [
    "## Code cells"
   ]
  },
  {
   "cell_type": "markdown",
   "metadata": {},
   "source": [
    "Jupyter Notebooks are divided into cells, which contain either code or text.\n",
    "\n",
    "Lines with `[ ]:` (and are grey) are code cells, which means the code in the line can be executed. This is done by clicking the line, and pressing Shift + Enter. This also moves the selection to the next line."
   ]
  },
  {
   "cell_type": "code",
   "execution_count": null,
   "metadata": {},
   "outputs": [],
   "source": [
    "import time\n",
    "time.sleep(3)"
   ]
  },
  {
   "cell_type": "markdown",
   "metadata": {},
   "source": [
    "The original `[ ]:` changes firstly to `[*]:` which means the line is being executed. And when the line has finished executed, it changes to `[1]:`. The number refers to how many lines were executed before this one. Note this is not the line number in the notebook, but the input to the python interpreter. It is possible to execute lines in any order.\n",
    "\n",
    "It is also possible to navigate to different lines by using the up or down arrow keys."
   ]
  },
  {
   "cell_type": "markdown",
   "metadata": {},
   "source": [
    "If there is output from the cell, it appears beneath the code cell. For example:"
   ]
  },
  {
   "cell_type": "code",
   "execution_count": null,
   "metadata": {},
   "outputs": [],
   "source": [
    "1 + 3"
   ]
  },
  {
   "cell_type": "markdown",
   "metadata": {},
   "source": [
    "## Tab completion"
   ]
  },
  {
   "cell_type": "markdown",
   "metadata": {},
   "source": [
    "A very useful feature is tab completion. Select the next line, go to the end of `time.s`, and press tab. This will bring up all the functions which start with `s`. Select `sleep`, write `time.sleep(1)` and execute the line using Ctrl + Enter"
   ]
  },
  {
   "cell_type": "code",
   "execution_count": null,
   "metadata": {},
   "outputs": [],
   "source": [
    "time.s"
   ]
  },
  {
   "cell_type": "markdown",
   "metadata": {},
   "source": [
    "## Docstrings"
   ]
  },
  {
   "cell_type": "markdown",
   "metadata": {},
   "source": [
    "Another useful feature is the docstring, which explains how functions work. One way of accessing these, is by processing `Shift + Tab` while having the cursor on a function.\n",
    "\n",
    "Press `sleep` in the cell below, and then press `Shift + Tab`"
   ]
  },
  {
   "cell_type": "code",
   "execution_count": null,
   "metadata": {},
   "outputs": [],
   "source": [
    "time.sleep"
   ]
  },
  {
   "cell_type": "markdown",
   "metadata": {},
   "source": [
    "These docstrings (usually) contain a lot of useful information on how to use these functions, and is very useful as a quick lookup."
   ]
  },
  {
   "cell_type": "markdown",
   "metadata": {},
   "source": [
    "## Collapse output"
   ]
  },
  {
   "cell_type": "markdown",
   "metadata": {},
   "source": [
    "For some functions, the output can be very verbose, spanning many, many lines. To reduce the size of the result \"box\", first click on it, then click on the blue vertical line. To make the result reappear, press the `...`."
   ]
  },
  {
   "cell_type": "code",
   "execution_count": null,
   "metadata": {
    "tags": []
   },
   "outputs": [],
   "source": [
    "for i in range(100):\n",
    "    print(i)"
   ]
  },
  {
   "cell_type": "markdown",
   "metadata": {},
   "source": [
    "## Markdown cells\n",
    "\n",
    "In addition to the code cells, we also have something called markdown cells. There are useful for including information within the Notebook. An example if this, is this cell!\n",
    "\n",
    "These can things like formulas, headings, lists, images, weblinks, ...:\n",
    "\n",
    "- A formula: $La_{0.7}Sr_{0.3}MnO_3$: https://en.wikipedia.org/wiki/Lanthanum_strontium_manganite\n",
    "\n",
    "### A heading!\n",
    "\n",
    "To see the \"source code\" of this markdown cell:\n",
    "\n",
    "1. Double click it, or\n",
    "2. Select it, and press `Enter`\n",
    "\n",
    "These markdown cells makes Jupyter Notebooks useful for documenting workflows or for tutorials."
   ]
  },
  {
   "cell_type": "markdown",
   "metadata": {},
   "source": [
    "## Saving\n",
    "The file will be saved periodically and can be saved manually from the toolbar `File -> Save notebook`.\n",
    "\n",
    "They can also be exported as different formats, for example `html`. This makes it easy to share a non-interactive version of the notebook. `File -> Export Notebook As -> HTML`"
   ]
  },
  {
   "cell_type": "markdown",
   "metadata": {},
   "source": [
    "## Summary"
   ]
  },
  {
   "cell_type": "markdown",
   "metadata": {},
   "source": [
    "For now, there are two main things you should remember:\n",
    "\n",
    "- Code cells have a `[ ]:` and are grey\n",
    "- You can run them by selecting them, and pressing `Shift + Enter`\n"
   ]
  },
  {
   "cell_type": "code",
   "execution_count": null,
   "metadata": {},
   "outputs": [],
   "source": [
    "print(\"Run this cell!\")"
   ]
  }
 ],
 "metadata": {
  "kernelspec": {
   "display_name": "Python 3 (ipykernel)",
   "language": "python",
   "name": "python3"
  },
  "language_info": {
   "codemirror_mode": {
    "name": "ipython",
    "version": 3
   },
   "file_extension": ".py",
   "mimetype": "text/x-python",
   "name": "python",
   "nbconvert_exporter": "python",
   "pygments_lexer": "ipython3",
   "version": "3.11.9"
  }
 },
 "nbformat": 4,
 "nbformat_minor": 4
}
