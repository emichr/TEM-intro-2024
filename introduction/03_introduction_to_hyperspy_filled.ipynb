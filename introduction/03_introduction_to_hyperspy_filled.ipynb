{
 "cells": [
  {
   "cell_type": "markdown",
   "id": "a07b6520-b3c2-44ac-9bf1-9be827764190",
   "metadata": {},
   "source": [
    "# Introduction to HyperSpy\n",
    "\n",
    "This notebook gives an introduction the python package `HyperSpy`, which is focused on analysing multidimensional data, especially electron microscopy.\n",
    "\n",
    "First, we need to set the plotting backend."
   ]
  },
  {
   "cell_type": "code",
   "execution_count": 1,
   "id": "330a2066-8158-42c1-bbbe-aea92f714d8f",
   "metadata": {},
   "outputs": [],
   "source": [
    "%matplotlib qt"
   ]
  },
  {
   "cell_type": "markdown",
   "id": "2d820cdb-5165-450b-8398-c196f97aefa8",
   "metadata": {},
   "source": [
    "Then import `hyperspy`, specifically the `api`\n",
    "\n",
    "Note that we'll get some `WARNINGS` related to the GUI, these are due to the plotting backend we've chosen."
   ]
  },
  {
   "cell_type": "code",
   "execution_count": 2,
   "id": "450f5611-7c14-46ec-97d4-29f869aaee4c",
   "metadata": {},
   "outputs": [],
   "source": [
    "import hyperspy.api as hs"
   ]
  },
  {
   "cell_type": "markdown",
   "id": "4028baa3-e2a4-40c0-adc6-bd8a831410c3",
   "metadata": {},
   "source": [
    "Similarly to `numpy`, `HyperSpy` has a number of functions. The most important one being `load`, which can open a large number of file formats, including many of the common electron microscopy ones: `tiff`, `dm3`, `dm4`, `emi/ser`, FEI's `emd`, ... To get a full list, see the docstring in `load`\n",
    "\n",
    "Lets use this function to open the file `data/adf_image.dm3`, and assign it to the value `s`."
   ]
  },
  {
   "cell_type": "code",
   "execution_count": 3,
   "id": "bbdf4518-58b6-4b62-8218-b3256407260d",
   "metadata": {},
   "outputs": [],
   "source": [
    "s = hs.load(\"data/adf_image.dm3\")"
   ]
  },
  {
   "cell_type": "markdown",
   "id": "70ae7650-cae6-4d77-83dc-7bfdd71505fd",
   "metadata": {},
   "source": [
    "First, lets see what this variable `s` is."
   ]
  },
  {
   "cell_type": "code",
   "execution_count": 4,
   "id": "023a3510-fa07-417b-8e73-b9780f427089",
   "metadata": {},
   "outputs": [
    {
     "data": {
      "text/plain": [
       "<Signal2D, title: 006_ADF_film_interface, dimensions: (|1024, 1024)>"
      ]
     },
     "execution_count": 4,
     "metadata": {},
     "output_type": "execute_result"
    }
   ],
   "source": [
    "s"
   ]
  },
  {
   "cell_type": "markdown",
   "id": "7ad0a19e-cec9-4a30-8228-728fa058583a",
   "metadata": {},
   "source": [
    "Here, we see some key information about the file we just loaded. For example that it has 1024 x 1024 pixels, and is a `Signal2D`.\n",
    "\n",
    "This `Signal2D` has several useful functions, or methods. One of these is `plot`, which visualizes the data.\n",
    "\n",
    "Try plotting, and notice that the plot has the same interactive controls as the `matplotlib` `plot` function."
   ]
  },
  {
   "cell_type": "code",
   "execution_count": 5,
   "id": "21dd65eb-188b-462c-bf89-6fe976f969f3",
   "metadata": {},
   "outputs": [],
   "source": [
    "s.plot()"
   ]
  },
  {
   "cell_type": "markdown",
   "id": "6355f6de-c497-4e5e-a859-5cb582aac5c9",
   "metadata": {},
   "source": [
    "## Tuning brightness and contrast"
   ]
  },
  {
   "cell_type": "markdown",
   "id": "df741cad-9fc3-49b6-afe9-027f2ebe1c9f",
   "metadata": {},
   "source": [
    "The brightness and contrast can be selecting the plotting window, then pressing the \"H\" button on the keyboard (note, this is only for the `qt5` backend).\n",
    "\n",
    "Here, both the brightness/contrast and the plotting \"norm\" can be set."
   ]
  },
  {
   "cell_type": "markdown",
   "id": "1ff66669-f4aa-4111-b344-519da6f04d23",
   "metadata": {},
   "source": [
    "`plot` also has a great deal of functionality, which we can see in the docstring."
   ]
  },
  {
   "cell_type": "code",
   "execution_count": 6,
   "id": "1c0ef835-5ed0-4f52-8784-1517292d66b8",
   "metadata": {},
   "outputs": [
    {
     "data": {
      "text/plain": [
       "<bound method Signal2D.plot of <Signal2D, title: 006_ADF_film_interface, dimensions: (|1024, 1024)>>"
      ]
     },
     "execution_count": 6,
     "metadata": {},
     "output_type": "execute_result"
    }
   ],
   "source": [
    "s.plot"
   ]
  },
  {
   "cell_type": "markdown",
   "id": "a3a6ed39-e2c5-422d-976a-55b14815c1c6",
   "metadata": {},
   "source": [
    "One example of this is the `cmap` argument, which changes the color map"
   ]
  },
  {
   "cell_type": "code",
   "execution_count": 7,
   "id": "e34c9265-4bad-4db3-8abf-69c1da2f27cc",
   "metadata": {},
   "outputs": [
    {
     "data": {
      "application/vnd.jupyter.widget-view+json": {
       "model_id": "2e5354940ccc4445a62f6b7f0f32f652",
       "version_major": 2,
       "version_minor": 0
      },
      "text/plain": [
       "VBox(children=(FloatText(value=0.0, description='Vmin', disabled=True), FloatText(value=0.0, description='Vmax…"
      ]
     },
     "metadata": {},
     "output_type": "display_data"
    }
   ],
   "source": [
    "s.plot(cmap='Reds_r')"
   ]
  },
  {
   "cell_type": "markdown",
   "id": "7a64ab13-6342-4b68-8738-85f6b5f44989",
   "metadata": {},
   "source": [
    "## Signal types"
   ]
  },
  {
   "cell_type": "markdown",
   "id": "d3ad4c73-cf66-4b41-a009-9cc12e2b51b2",
   "metadata": {},
   "source": [
    "In addition to the `Signal2D` signal type we've been working with this far, there are several different signal types: `Signal1D`, `EELSSpectrum`, `EDSTEMSpectrum`, `EDSSEMSpectrum`, `HologramImage` and more. When you use the `load` function, `HyperSpy` will try to get guess which type of signal the file is. For example, loading the file `data/EELS_spectrum.hspy`:\n"
   ]
  },
  {
   "cell_type": "code",
   "execution_count": 9,
   "id": "f168865c-8563-4a06-a3c1-abb44b7303a8",
   "metadata": {},
   "outputs": [
    {
     "name": "stderr",
     "output_type": "stream",
     "text": [
      "C:\\Users\\emilc\\AppData\\Local\\miniforge3\\envs\\TEM-intro-2024\\Lib\\site-packages\\hyperspy\\io.py:650: VisibleDeprecationWarning: Loading old file version. The binned attribute has been moved from metadata.Signal to axis.is_binned. Setting this attribute for all signal axes instead.\n",
      "  warnings.warn(\n"
     ]
    }
   ],
   "source": [
    "s_eels = hs.load(\"data/LSMO_linescan.hdf5\", reader='hspy')"
   ]
  },
  {
   "cell_type": "code",
   "execution_count": 10,
   "id": "4ad637e3-3f32-4e25-9178-14a02352ab4f",
   "metadata": {},
   "outputs": [
    {
     "data": {
      "text/plain": [
       "<EELSSpectrum, title: EELS Spectrum Image (high-loss), dimensions: (40|586)>"
      ]
     },
     "execution_count": 10,
     "metadata": {},
     "output_type": "execute_result"
    }
   ],
   "source": [
    "s_eels"
   ]
  },
  {
   "cell_type": "markdown",
   "id": "024abd24-e5fd-4534-94bc-8d2f9d96eeda",
   "metadata": {},
   "source": [
    "Here, we see that the signal is an `EELSSpectrum`, and plotting it, we see that the visualization is tailored for looking at EELS data."
   ]
  },
  {
   "cell_type": "code",
   "execution_count": 11,
   "id": "9dae29b6-7f3e-42f8-9678-71a6ffa04f5e",
   "metadata": {},
   "outputs": [],
   "source": [
    "s_eels.plot()"
   ]
  },
  {
   "cell_type": "markdown",
   "id": "1dba2114-9812-4aa0-82f3-f4dc4f79e096",
   "metadata": {},
   "source": [
    "In addition, this signal has lots of functions relevant for EELS signals. Which will have a look at tomorrow.\n",
    "\n",
    "To get a full list of all the different signals, use the `hs.print_known_signal_types()` function"
   ]
  },
  {
   "cell_type": "code",
   "execution_count": 12,
   "id": "eb23a95e-1e52-463f-b9dc-4830b81966aa",
   "metadata": {
    "tags": []
   },
   "outputs": [
    {
     "data": {
      "text/html": [
       "<table>\n",
       "    <thead>\n",
       "        <tr>\n",
       "            <th>signal_type</th>\n",
       "            <th>aliases</th>\n",
       "            <th>class name</th>\n",
       "            <th>package</th>\n",
       "        </tr>\n",
       "    </thead>\n",
       "    <tbody>\n",
       "        <tr>\n",
       "            <td>beam_shift</td>\n",
       "            <td></td>\n",
       "            <td>BeamShift</td>\n",
       "            <td>pyxem</td>\n",
       "        </tr>\n",
       "        <tr>\n",
       "            <td>correlation</td>\n",
       "            <td></td>\n",
       "            <td>Correlation1D</td>\n",
       "            <td>pyxem</td>\n",
       "        </tr>\n",
       "        <tr>\n",
       "            <td>correlation</td>\n",
       "            <td></td>\n",
       "            <td>Correlation2D</td>\n",
       "            <td>pyxem</td>\n",
       "        </tr>\n",
       "        <tr>\n",
       "            <td>dpc</td>\n",
       "            <td></td>\n",
       "            <td>DPCSignal1D</td>\n",
       "            <td>pyxem</td>\n",
       "        </tr>\n",
       "        <tr>\n",
       "            <td>dpc</td>\n",
       "            <td></td>\n",
       "            <td>DPCSignal2D</td>\n",
       "            <td>pyxem</td>\n",
       "        </tr>\n",
       "        <tr>\n",
       "            <td>DielectricFunction</td>\n",
       "            <td>dielectric function</td>\n",
       "            <td>DielectricFunction</td>\n",
       "            <td>exspy</td>\n",
       "        </tr>\n",
       "        <tr>\n",
       "            <td>diffraction</td>\n",
       "            <td></td>\n",
       "            <td>Diffraction1D</td>\n",
       "            <td>pyxem</td>\n",
       "        </tr>\n",
       "        <tr>\n",
       "            <td>diffraction</td>\n",
       "            <td></td>\n",
       "            <td>Diffraction2D</td>\n",
       "            <td>pyxem</td>\n",
       "        </tr>\n",
       "        <tr>\n",
       "            <td>diffraction_variance</td>\n",
       "            <td></td>\n",
       "            <td>DiffractionVariance1D</td>\n",
       "            <td>pyxem</td>\n",
       "        </tr>\n",
       "        <tr>\n",
       "            <td>diffraction_variance</td>\n",
       "            <td></td>\n",
       "            <td>DiffractionVariance2D</td>\n",
       "            <td>pyxem</td>\n",
       "        </tr>\n",
       "        <tr>\n",
       "            <td>diffraction_vectors</td>\n",
       "            <td></td>\n",
       "            <td>DiffractionVectors</td>\n",
       "            <td>pyxem</td>\n",
       "        </tr>\n",
       "        <tr>\n",
       "            <td>diffraction_vectors</td>\n",
       "            <td></td>\n",
       "            <td>DiffractionVectors1D</td>\n",
       "            <td>pyxem</td>\n",
       "        </tr>\n",
       "        <tr>\n",
       "            <td>diffraction_vectors</td>\n",
       "            <td></td>\n",
       "            <td>DiffractionVectors2D</td>\n",
       "            <td>pyxem</td>\n",
       "        </tr>\n",
       "        <tr>\n",
       "            <td>tensor_field</td>\n",
       "            <td></td>\n",
       "            <td>DisplacementGradientMap</td>\n",
       "            <td>pyxem</td>\n",
       "        </tr>\n",
       "        <tr>\n",
       "            <td>EDS_SEM</td>\n",
       "            <td></td>\n",
       "            <td>EDSSEMSpectrum</td>\n",
       "            <td>exspy</td>\n",
       "        </tr>\n",
       "        <tr>\n",
       "            <td>EDS_TEM</td>\n",
       "            <td></td>\n",
       "            <td>EDSTEMSpectrum</td>\n",
       "            <td>exspy</td>\n",
       "        </tr>\n",
       "        <tr>\n",
       "            <td>EELS</td>\n",
       "            <td>TEM EELS</td>\n",
       "            <td>EELSSpectrum</td>\n",
       "            <td>exspy</td>\n",
       "        </tr>\n",
       "        <tr>\n",
       "            <td>electron_diffraction</td>\n",
       "            <td></td>\n",
       "            <td>ElectronDiffraction1D</td>\n",
       "            <td>pyxem</td>\n",
       "        </tr>\n",
       "        <tr>\n",
       "            <td>electron_diffraction</td>\n",
       "            <td></td>\n",
       "            <td>ElectronDiffraction2D</td>\n",
       "            <td>pyxem</td>\n",
       "        </tr>\n",
       "        <tr>\n",
       "            <td>insitu_diffraction</td>\n",
       "            <td></td>\n",
       "            <td>InSituDiffraction2D</td>\n",
       "            <td>pyxem</td>\n",
       "        </tr>\n",
       "        <tr>\n",
       "            <td>labeled_diffraction_vectors</td>\n",
       "            <td></td>\n",
       "            <td>LabeledDiffractionVectors2D</td>\n",
       "            <td>pyxem</td>\n",
       "        </tr>\n",
       "        <tr>\n",
       "            <td>orientation_map</td>\n",
       "            <td></td>\n",
       "            <td>OrientationMap</td>\n",
       "            <td>pyxem</td>\n",
       "        </tr>\n",
       "        <tr>\n",
       "            <td>pair_distribution_function</td>\n",
       "            <td></td>\n",
       "            <td>PairDistributionFunction1D</td>\n",
       "            <td>pyxem</td>\n",
       "        </tr>\n",
       "        <tr>\n",
       "            <td>polar_diffraction</td>\n",
       "            <td></td>\n",
       "            <td>PolarDiffraction2D</td>\n",
       "            <td>pyxem</td>\n",
       "        </tr>\n",
       "        <tr>\n",
       "            <td>polar_vectors</td>\n",
       "            <td></td>\n",
       "            <td>PolarVectors</td>\n",
       "            <td>pyxem</td>\n",
       "        </tr>\n",
       "        <tr>\n",
       "            <td>power</td>\n",
       "            <td></td>\n",
       "            <td>Power2D</td>\n",
       "            <td>pyxem</td>\n",
       "        </tr>\n",
       "        <tr>\n",
       "            <td>reduced_intensity</td>\n",
       "            <td></td>\n",
       "            <td>ReducedIntensity1D</td>\n",
       "            <td>pyxem</td>\n",
       "        </tr>\n",
       "        <tr>\n",
       "            <td>vector_matching</td>\n",
       "            <td></td>\n",
       "            <td>VectorMatchingResults</td>\n",
       "            <td>pyxem</td>\n",
       "        </tr>\n",
       "        <tr>\n",
       "            <td>virtual_dark_field</td>\n",
       "            <td></td>\n",
       "            <td>VirtualDarkFieldImage</td>\n",
       "            <td>pyxem</td>\n",
       "        </tr>\n",
       "    </tbody>\n",
       "</table>"
      ],
      "text/plain": [
       "+-----------------------------+---------------------+-----------------------------+---------+\n",
       "|         signal_type         |       aliases       |          class name         | package |\n",
       "+-----------------------------+---------------------+-----------------------------+---------+\n",
       "|          beam_shift         |                     |          BeamShift          |  pyxem  |\n",
       "|         correlation         |                     |        Correlation1D        |  pyxem  |\n",
       "|         correlation         |                     |        Correlation2D        |  pyxem  |\n",
       "|             dpc             |                     |         DPCSignal1D         |  pyxem  |\n",
       "|             dpc             |                     |         DPCSignal2D         |  pyxem  |\n",
       "|      DielectricFunction     | dielectric function |      DielectricFunction     |  exspy  |\n",
       "|         diffraction         |                     |        Diffraction1D        |  pyxem  |\n",
       "|         diffraction         |                     |        Diffraction2D        |  pyxem  |\n",
       "|     diffraction_variance    |                     |    DiffractionVariance1D    |  pyxem  |\n",
       "|     diffraction_variance    |                     |    DiffractionVariance2D    |  pyxem  |\n",
       "|     diffraction_vectors     |                     |      DiffractionVectors     |  pyxem  |\n",
       "|     diffraction_vectors     |                     |     DiffractionVectors1D    |  pyxem  |\n",
       "|     diffraction_vectors     |                     |     DiffractionVectors2D    |  pyxem  |\n",
       "|         tensor_field        |                     |   DisplacementGradientMap   |  pyxem  |\n",
       "|           EDS_SEM           |                     |        EDSSEMSpectrum       |  exspy  |\n",
       "|           EDS_TEM           |                     |        EDSTEMSpectrum       |  exspy  |\n",
       "|             EELS            |       TEM EELS      |         EELSSpectrum        |  exspy  |\n",
       "|     electron_diffraction    |                     |    ElectronDiffraction1D    |  pyxem  |\n",
       "|     electron_diffraction    |                     |    ElectronDiffraction2D    |  pyxem  |\n",
       "|      insitu_diffraction     |                     |     InSituDiffraction2D     |  pyxem  |\n",
       "| labeled_diffraction_vectors |                     | LabeledDiffractionVectors2D |  pyxem  |\n",
       "|       orientation_map       |                     |        OrientationMap       |  pyxem  |\n",
       "|  pair_distribution_function |                     |  PairDistributionFunction1D |  pyxem  |\n",
       "|      polar_diffraction      |                     |      PolarDiffraction2D     |  pyxem  |\n",
       "|        polar_vectors        |                     |         PolarVectors        |  pyxem  |\n",
       "|            power            |                     |           Power2D           |  pyxem  |\n",
       "|      reduced_intensity      |                     |      ReducedIntensity1D     |  pyxem  |\n",
       "|       vector_matching       |                     |    VectorMatchingResults    |  pyxem  |\n",
       "|      virtual_dark_field     |                     |    VirtualDarkFieldImage    |  pyxem  |\n",
       "+-----------------------------+---------------------+-----------------------------+---------+"
      ]
     },
     "metadata": {},
     "output_type": "display_data"
    }
   ],
   "source": [
    "hs.print_known_signal_types()"
   ]
  },
  {
   "cell_type": "markdown",
   "id": "c29ee2d9-6a7a-460f-8505-f4429c44b1cc",
   "metadata": {},
   "source": [
    "## Axes manager"
   ]
  },
  {
   "cell_type": "markdown",
   "id": "ccf89ceb-a1b9-4bfa-8d8e-686171c69bbd",
   "metadata": {},
   "source": [
    "Another important aspect of data, is the calibration and scaling for the different dimensions.\n",
    "\n",
    "All information about this is kept in the `axes_manager` object."
   ]
  },
  {
   "cell_type": "code",
   "execution_count": 13,
   "id": "6931b1a2-4b85-403d-b3f6-94294ca59ece",
   "metadata": {},
   "outputs": [
    {
     "data": {
      "text/html": [
       "<style>\n",
       "table, th, td {\n",
       "\tborder: 1px solid black;\n",
       "\tborder-collapse: collapse;\n",
       "}\n",
       "th, td {\n",
       "\tpadding: 5px;\n",
       "}\n",
       "</style>\n",
       "<p><b>< Axes manager, axes: (|1024, 1024) ></b></p>\n",
       "<table style='width:100%'>\n",
       "\n",
       "<tr> \n",
       "<th>Signal axis name</th> \n",
       "<th>size</th> \n",
       "<th></th> \n",
       "<th>offset</th> \n",
       "<th>scale</th> \n",
       "<th>units</th> </tr>\n",
       "<tr> \n",
       "<td>x</td> \n",
       "<td>1024</td> \n",
       "<td></td> \n",
       "<td>-0.0</td> \n",
       "<td>0.012269863858819008</td> \n",
       "<td>nm</td> </tr>\n",
       "<tr> \n",
       "<td>y</td> \n",
       "<td>1024</td> \n",
       "<td></td> \n",
       "<td>-0.0</td> \n",
       "<td>0.012269863858819008</td> \n",
       "<td>nm</td> </tr></table>\n"
      ],
      "text/plain": [
       "<Axes manager, axes: (|1024, 1024)>\n",
       "            Name |   size |  index |  offset |   scale |  units \n",
       "================ | ====== | ====== | ======= | ======= | ====== \n",
       "---------------- | ------ | ------ | ------- | ------- | ------ \n",
       "               x |   1024 |      0 |      -0 |   0.012 |     nm \n",
       "               y |   1024 |      0 |      -0 |   0.012 |     nm "
      ]
     },
     "execution_count": 13,
     "metadata": {},
     "output_type": "execute_result"
    }
   ],
   "source": [
    "s.axes_manager"
   ]
  },
  {
   "cell_type": "markdown",
   "id": "e8dc5673-ea5a-4c15-bbed-672e5e8f5ee2",
   "metadata": {},
   "source": [
    "This can changed in the `s.axes_manager.gui()`"
   ]
  },
  {
   "cell_type": "code",
   "execution_count": 14,
   "id": "a59e1eef-2dfd-41eb-8916-2e15d166236b",
   "metadata": {},
   "outputs": [
    {
     "data": {
      "application/vnd.jupyter.widget-view+json": {
       "model_id": "384469e3789c4b75a6050a66112db4f1",
       "version_major": 2,
       "version_minor": 0
      },
      "text/plain": [
       "HBox(children=(Accordion(), Accordion(children=(VBox(children=(HBox(children=(Label(value='Name'), Text(value=…"
      ]
     },
     "metadata": {},
     "output_type": "display_data"
    }
   ],
   "source": [
    "s.axes_manager.gui()"
   ]
  },
  {
   "cell_type": "markdown",
   "id": "5c1a0d67-86f7-428e-a033-56ffb522237c",
   "metadata": {},
   "source": [
    "Here, we can change scale, units and offset.\n",
    "\n",
    "This can also be changed programmatically, by accessing the `axes_manager` object directly."
   ]
  },
  {
   "cell_type": "code",
   "execution_count": 15,
   "id": "17830159-f253-468a-9a5e-bb55c8e57856",
   "metadata": {},
   "outputs": [
    {
     "data": {
      "text/html": [
       "<style>\n",
       "table, th, td {\n",
       "\tborder: 1px solid black;\n",
       "\tborder-collapse: collapse;\n",
       "}\n",
       "th, td {\n",
       "\tpadding: 5px;\n",
       "}\n",
       "</style>\n",
       "<p><b>< Axes manager, axes: (|1024, 1024) ></b></p>\n",
       "<table style='width:100%'>\n",
       "\n",
       "<tr> \n",
       "<th>Signal axis name</th> \n",
       "<th>size</th> \n",
       "<th></th> \n",
       "<th>offset</th> \n",
       "<th>scale</th> \n",
       "<th>units</th> </tr>\n",
       "<tr> \n",
       "<td>xaxis</td> \n",
       "<td>1024</td> \n",
       "<td></td> \n",
       "<td>-93.0</td> \n",
       "<td>31.5</td> \n",
       "<td>Å</td> </tr>\n",
       "<tr> \n",
       "<td>y</td> \n",
       "<td>1024</td> \n",
       "<td></td> \n",
       "<td>-0.0</td> \n",
       "<td>0.012269863858819008</td> \n",
       "<td>nm</td> </tr></table>\n"
      ],
      "text/plain": [
       "<Axes manager, axes: (|1024, 1024)>\n",
       "            Name |   size |  index |  offset |   scale |  units \n",
       "================ | ====== | ====== | ======= | ======= | ====== \n",
       "---------------- | ------ | ------ | ------- | ------- | ------ \n",
       "           xaxis |   1024 |      0 |     -93 |      32 |      Å \n",
       "               y |   1024 |      0 |      -0 |   0.012 |     nm "
      ]
     },
     "execution_count": 15,
     "metadata": {},
     "output_type": "execute_result"
    }
   ],
   "source": [
    "xaxis = s.axes_manager[0]\n",
    "xaxis.scale = 31.5\n",
    "xaxis.units = 'Å'\n",
    "xaxis.name = 'xaxis'\n",
    "xaxis.offset = -93\n",
    "s.axes_manager"
   ]
  },
  {
   "cell_type": "markdown",
   "id": "455584c4-da3b-4ab6-bdd4-99dc90298339",
   "metadata": {},
   "source": [
    "Now we can see that the scaling is different for the x- and y-axis, which we can see with `s.plot()`."
   ]
  },
  {
   "cell_type": "code",
   "execution_count": 16,
   "id": "ba805830-17bc-4095-8b6f-0e195003bc7c",
   "metadata": {},
   "outputs": [],
   "source": [
    "s.plot()"
   ]
  },
  {
   "cell_type": "markdown",
   "id": "61474a1a-e00f-403b-8188-cef18905ed17",
   "metadata": {},
   "source": [
    "Lets reload the dataset, to \"fix\" the scaling here."
   ]
  },
  {
   "cell_type": "code",
   "execution_count": 17,
   "id": "9752afd3-8815-4c3d-b83c-62d00e3aad5f",
   "metadata": {},
   "outputs": [],
   "source": [
    "s = hs.load(\"data/adf_image.dm3\")"
   ]
  },
  {
   "cell_type": "markdown",
   "id": "ba9fa0df-b6e2-4a3b-8428-58e59dd22488",
   "metadata": {},
   "source": [
    "## Slicing: inav and isig"
   ]
  },
  {
   "cell_type": "markdown",
   "id": "1d33ecae-095b-439d-9c30-1449bd0fcb87",
   "metadata": {},
   "source": [
    "HyperSpy has extensive support for slicing, which essentially means cropping the data along one or several dimensions. \n",
    "\n",
    "The main functions are `s.inav` and `s.isig`:\n",
    "\n",
    "- `inav` slices in the navigation dimension\n",
    "- `isig` slices in the signal dimension\n",
    "\n",
    "If integers are used, it will slice in based on index. If decimal numbers are used, it will slice based on the scaling.\n",
    "\n",
    "Lets get a sub-region of the atomic resolution image."
   ]
  },
  {
   "cell_type": "code",
   "execution_count": 18,
   "id": "6188fd11-b8bc-4f6c-9134-2274c18e3c93",
   "metadata": {},
   "outputs": [],
   "source": [
    "s.plot()"
   ]
  },
  {
   "cell_type": "code",
   "execution_count": 19,
   "id": "6ce69129-4f5c-4709-8d0e-edb44c2f50f4",
   "metadata": {},
   "outputs": [],
   "source": [
    "s_crop = s.isig[100:300, 200:300]\n",
    "s_crop.plot()"
   ]
  },
  {
   "cell_type": "markdown",
   "id": "c6a44930-7053-458b-a6d9-34d3d18dcd61",
   "metadata": {},
   "source": [
    "## Using region of interests"
   ]
  },
  {
   "cell_type": "markdown",
   "id": "b3371c9c-e43c-409b-8b9c-dc2a63392d1f",
   "metadata": {},
   "source": [
    "Region of interests can be used to extract subsets of a signal"
   ]
  },
  {
   "cell_type": "code",
   "execution_count": 20,
   "id": "608cf7b9-f662-4e0d-bf8f-5c4bc1e9ae8d",
   "metadata": {},
   "outputs": [],
   "source": [
    "line_roi = hs.roi.Line2DROI(x1=0.5, y1=0.5, x2=1, y2=1, linewidth=0.5)\n",
    "s.plot()\n",
    "s_line = line_roi.interactive(s, color='red')\n",
    "s_line.plot()"
   ]
  },
  {
   "cell_type": "markdown",
   "id": "c0c10b8a-f5f4-42a8-a564-64df3920dd83",
   "metadata": {},
   "source": [
    "This can also be used to crop images"
   ]
  },
  {
   "cell_type": "code",
   "execution_count": 21,
   "id": "52eb5ff5-a2e0-45f2-9f0b-298434e09464",
   "metadata": {},
   "outputs": [],
   "source": [
    "rectangular_roi = hs.roi.RectangularROI(left=0.3, right=1.5, top=0.2, bottom=1.6)\n",
    "s.plot()\n",
    "s_rectangular = rectangular_roi.interactive(s, color='red')"
   ]
  },
  {
   "cell_type": "code",
   "execution_count": 22,
   "id": "61a7c1c5-cfbc-45d0-ad54-3e02d7710bca",
   "metadata": {},
   "outputs": [],
   "source": [
    "s_rectangular.plot()"
   ]
  },
  {
   "cell_type": "markdown",
   "id": "812c22c1-df9a-4afe-9f49-6f79b10c0c8d",
   "metadata": {},
   "source": [
    "## Image stacks"
   ]
  },
  {
   "cell_type": "markdown",
   "id": "e4541d46-535f-4d72-8e98-2118d9d20ecc",
   "metadata": {},
   "source": [
    "There are also some basic drift alignment functionality, for correcting drift. It wasn't really designed for atomic resolution images like these, but still work fairly well. It was implemented for correcting drift when heating samples using a DENS heating holder."
   ]
  },
  {
   "cell_type": "code",
   "execution_count": 23,
   "id": "c1e754b1-1262-4c27-bc3b-cfca904a1575",
   "metadata": {},
   "outputs": [
    {
     "name": "stderr",
     "output_type": "stream",
     "text": [
      "C:\\Users\\emilc\\AppData\\Local\\miniforge3\\envs\\TEM-intro-2024\\Lib\\site-packages\\hyperspy\\io.py:650: VisibleDeprecationWarning: Loading old file version. The binned attribute has been moved from metadata.Signal to axis.is_binned. Setting this attribute for all signal axes instead.\n",
      "  warnings.warn(\n"
     ]
    }
   ],
   "source": [
    "s_stack = hs.load(\"data/stem_abf_data_imagestack.hspy\")\n",
    "s_stack.plot()"
   ]
  },
  {
   "cell_type": "markdown",
   "id": "fad717f0-1cb0-42c1-b300-508aeb758488",
   "metadata": {},
   "source": [
    "Since this is an image stack, we use the `cascade` reference, which means the current image is compared to the previous one. For more information about the arguments, see the docstring for `align2D`"
   ]
  },
  {
   "cell_type": "code",
   "execution_count": 24,
   "id": "0c510c36-caab-4e2a-8ad6-2afb77e53487",
   "metadata": {},
   "outputs": [
    {
     "data": {
      "application/vnd.jupyter.widget-view+json": {
       "model_id": "332c47acc66f4b7b81456bd00eef4038",
       "version_major": 2,
       "version_minor": 0
      },
      "text/plain": [
       "  0%|          | 0/10 [00:00<?, ?it/s]"
      ]
     },
     "metadata": {},
     "output_type": "display_data"
    },
    {
     "name": "stdout",
     "output_type": "stream",
     "text": [
      "[########################################] | 100% Completed | 102.74 ms\n"
     ]
    }
   ],
   "source": [
    "alignment_list = s_stack.align2D(roi=(250, 600, 250, 600), crop=True, reference='cascade', hanning=True, sobel=True, medfilter=True)"
   ]
  },
  {
   "cell_type": "code",
   "execution_count": 25,
   "id": "6e9405e3-4bd9-4789-a47f-b68e0fce453a",
   "metadata": {},
   "outputs": [],
   "source": [
    "s_stack.plot()"
   ]
  },
  {
   "cell_type": "markdown",
   "id": "f83017b0-f814-499d-95f9-2e43289fa6f2",
   "metadata": {},
   "source": [
    "We can now sum this stack, to produce an image with better signal-to-noise ratio"
   ]
  },
  {
   "cell_type": "code",
   "execution_count": 26,
   "id": "c22e4a56-dbeb-49c7-a2b5-04f546865c19",
   "metadata": {},
   "outputs": [],
   "source": [
    "s_aligned = s_stack.mean(0)\n",
    "s_aligned.plot()"
   ]
  },
  {
   "cell_type": "markdown",
   "id": "b604031a-6b5b-45a9-91dd-031468166490",
   "metadata": {},
   "source": [
    "## Saving data"
   ]
  },
  {
   "cell_type": "markdown",
   "id": "0f25b196-d9ad-46db-b532-a90d54b91c78",
   "metadata": {},
   "source": [
    "We can store the data using `s.save`, where the default fileformat is the `.hspy` file. This is a `.hdf5` file, which is an open file format."
   ]
  },
  {
   "cell_type": "code",
   "execution_count": 27,
   "id": "902c3e1b-1ae5-48c8-8161-77c551cc252f",
   "metadata": {},
   "outputs": [],
   "source": [
    "s.save(\"test_data.hspy\")"
   ]
  },
  {
   "cell_type": "code",
   "execution_count": null,
   "id": "ff93cc1a-568d-4313-9f27-ff04afc14e9a",
   "metadata": {},
   "outputs": [],
   "source": []
  }
 ],
 "metadata": {
  "kernelspec": {
   "display_name": "Python 3 (ipykernel)",
   "language": "python",
   "name": "python3"
  },
  "language_info": {
   "codemirror_mode": {
    "name": "ipython",
    "version": 3
   },
   "file_extension": ".py",
   "mimetype": "text/x-python",
   "name": "python",
   "nbconvert_exporter": "python",
   "pygments_lexer": "ipython3",
   "version": "3.11.9"
  }
 },
 "nbformat": 4,
 "nbformat_minor": 5
}
