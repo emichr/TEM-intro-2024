{
 "cells": [
  {
   "cell_type": "markdown",
   "id": "3caf2ee0-a034-48fb-995c-90eb08860fbb",
   "metadata": {},
   "source": [
    "# Basics of scientific Python"
   ]
  },
  {
   "cell_type": "markdown",
   "id": "9fbb4a9a-fb25-4184-9aa7-3ee3fe78b060",
   "metadata": {},
   "source": [
    "This notebook will go through some of the basic concepts of scientific Python, including how HyperSpy works."
   ]
  },
  {
   "cell_type": "markdown",
   "id": "f71135c4-b4ab-4367-95fb-aaeb48273173",
   "metadata": {},
   "source": [
    "## Packages or modules"
   ]
  },
  {
   "cell_type": "markdown",
   "id": "aac96504-2dbb-490b-bc9d-9c55e1c69c39",
   "metadata": {},
   "source": [
    "One of the great features in python is the amazing scientific python community and the packages they have developed and shared. These are collections of programs that do useful things and that can be \"imported\" to run in other programs. To import a package we just use the command `import`.\n",
    "\n",
    "Lets grab the bedrock of scientific python, [numpy](http://www.numpy.org/), which is a package for handling and calculating numerical arrays "
   ]
  },
  {
   "cell_type": "code",
   "execution_count": null,
   "id": "5cf8aa89-f59f-4809-8d19-f3bd7a3719db",
   "metadata": {},
   "outputs": [],
   "source": [
    "import numpy"
   ]
  },
  {
   "cell_type": "markdown",
   "id": "2f391159-6f6e-4993-8307-b9c2d991d06f",
   "metadata": {},
   "source": [
    "We can now look what is included in this library, using the docstring functionality. Write `numpy` and press `Shift + Enter`"
   ]
  },
  {
   "cell_type": "code",
   "execution_count": null,
   "id": "972b8cb9-4b6d-4f91-8388-289ac5715cb3",
   "metadata": {},
   "outputs": [],
   "source": [
    "numpy"
   ]
  },
  {
   "cell_type": "markdown",
   "id": "ff6e5a9c-1d1e-4da3-873c-1c882d595280",
   "metadata": {},
   "source": [
    "Scrolling down in the docstring a little bit, we can see that a common convention is importing `numpy` as `np`. This a convenient way to avoid having to type as much when coding.\n",
    "\n",
    "Now, import numpy as np:"
   ]
  },
  {
   "cell_type": "code",
   "execution_count": null,
   "id": "4a2192f4-d15d-47ba-af1e-ab881725d278",
   "metadata": {},
   "outputs": [],
   "source": [
    "import numpy as np"
   ]
  },
  {
   "cell_type": "markdown",
   "id": "fa9360a6-645d-4cfc-86b7-01eff12a588a",
   "metadata": {},
   "source": [
    "With this, we can explore the contents of numpy using tab completion."
   ]
  },
  {
   "cell_type": "code",
   "execution_count": null,
   "id": "15ac0372-d358-4daf-ae43-30a12ae8579c",
   "metadata": {},
   "outputs": [],
   "source": [
    "np."
   ]
  },
  {
   "cell_type": "markdown",
   "id": "2e521dbc-6fd9-4d56-922a-49b3ebd974eb",
   "metadata": {},
   "source": [
    "`numpy` has a very large number of functions, lets have a look at a function which is used to generate arrays of zeros. With the docstring, we can see what parameters we need to use for generating a 2 x 3 array"
   ]
  },
  {
   "cell_type": "code",
   "execution_count": null,
   "id": "5c888624-e274-4178-835a-88060ffbcfd6",
   "metadata": {},
   "outputs": [],
   "source": [
    "np.zeros((2, 3))"
   ]
  },
  {
   "cell_type": "markdown",
   "id": "a4dc59d3-7033-4c4d-8343-fc6e8f94b94f",
   "metadata": {},
   "source": [
    "As we can see, we got a number of zeros. However, we haven't assigned these to a variable yet."
   ]
  },
  {
   "cell_type": "code",
   "execution_count": null,
   "id": "da2cdd98-a2dd-458a-afc6-960900133fc9",
   "metadata": {},
   "outputs": [],
   "source": [
    "data = np.zeros((2, 3))"
   ]
  },
  {
   "cell_type": "markdown",
   "id": "f3478cb5-f722-4334-8737-a34eb7c578c6",
   "metadata": {},
   "source": [
    "Now we can access values we just generated in the `data` variable"
   ]
  },
  {
   "cell_type": "code",
   "execution_count": null,
   "id": "2fbaa258-0710-4edf-8b4b-6dc555b31d86",
   "metadata": {},
   "outputs": [],
   "source": [
    "data"
   ]
  },
  {
   "cell_type": "markdown",
   "id": "a48936cd-33b5-451d-a2a9-b592c777be1b",
   "metadata": {},
   "source": [
    "## Visualizing data"
   ]
  },
  {
   "cell_type": "markdown",
   "id": "2c1d3b70-6172-43ab-9642-e288433b76d2",
   "metadata": {},
   "source": [
    "An important aspect of scientific work is plotting or visualizing data. The main library for doing this is python is `matplotlib`.\n",
    "\n",
    "Lets import it, but this time, we need to grab a specific module in the package: `pyplot`"
   ]
  },
  {
   "cell_type": "code",
   "execution_count": null,
   "id": "7d183180-9255-40c8-b6dd-7caac66cecb1",
   "metadata": {},
   "outputs": [],
   "source": [
    "import matplotlib.pyplot as plt"
   ]
  },
  {
   "cell_type": "markdown",
   "id": "3bfb6b2e-8ef7-47fb-870b-59b3a67d4c2e",
   "metadata": {},
   "source": [
    "Now, lets make some data using numpy, and then visualize it with `matplotlib`.\n",
    "\n",
    "Use `np.arange` to make an array of numbers from 1 to 20. See the docstring for how to do this."
   ]
  },
  {
   "cell_type": "code",
   "execution_count": null,
   "id": "788987c5-3d8d-4b7a-90a0-612b8418fddd",
   "metadata": {},
   "outputs": [],
   "source": [
    "data = np.arange(1, 21)"
   ]
  },
  {
   "cell_type": "markdown",
   "id": "fbafc222-3eee-4eaf-9026-99aee1b44ddf",
   "metadata": {},
   "source": [
    "Since this is 1-dimensional data, we plot it using `plt.plot`"
   ]
  },
  {
   "cell_type": "code",
   "execution_count": null,
   "id": "cd0cdb9d-3e4c-46e4-909b-31cd90f97c9a",
   "metadata": {},
   "outputs": [],
   "source": [
    "plt.plot(data)"
   ]
  },
  {
   "cell_type": "markdown",
   "id": "362a5246-494c-48b2-89a0-ea33fac562f9",
   "metadata": {},
   "source": [
    "### Plotting backends\n",
    "\n",
    "The plot in the previous cell was made in the \"result\" box of the code cell. This is called `inline` plotting, and is the default.\n",
    "\n",
    "However, it is also possible to visualize this in a separate window. To do this, we need to switch the [matplotlib *backend*](https://matplotlib.org/stable/tutorials/introductory/usage.html#backends). This is done via the `%matplotlib qt` command.\n",
    "\n",
    "Note: this is only possible if you are running this Jupyter Notebook locally on your own computer. If you're using it via MyBinder, this will not work. To get interactive plotting in MyBinder, see the `widget` backend explained below."
   ]
  },
  {
   "cell_type": "code",
   "execution_count": null,
   "id": "ffc34484-6cd2-4aa0-a9b8-5f2cae11f70c",
   "metadata": {},
   "outputs": [],
   "source": [
    "%matplotlib qt"
   ]
  },
  {
   "cell_type": "markdown",
   "id": "24dfb62a-c7c1-4d9a-ab5f-fbd7fb9d8b9d",
   "metadata": {},
   "source": [
    "Use the `plt.plot` command again, which will now open an interactive window with the plot."
   ]
  },
  {
   "cell_type": "code",
   "execution_count": null,
   "id": "a816a8f1-93cd-4d62-848a-23543cf8b21f",
   "metadata": {},
   "outputs": [],
   "source": [
    "plt.plot(data)"
   ]
  },
  {
   "cell_type": "markdown",
   "id": "cf93815d-e215-4264-b1eb-64daa1e45217",
   "metadata": {},
   "source": [
    "This plot is interactive, so we can zoom, pan, modify and store it as a file.\n",
    "\n",
    "### Interactive notebook backend\n",
    "\n",
    "Having interactive plots is really useful, as we'll see in a little bit. It is also possible to get interactive plots directly in the Jupyter Notebook, which works on services such as MyBinder.\n",
    "\n",
    "For this we need to use the `%matplotlib widget` backend. However, for this to work, we need to restart the Jupyter Notebook. `Kernel -> Restart kernel...`"
   ]
  },
  {
   "cell_type": "code",
   "execution_count": null,
   "id": "edb2efe8-2e3d-4c82-aa2b-39ca1fd3a511",
   "metadata": {},
   "outputs": [],
   "source": [
    "%matplotlib widget"
   ]
  },
  {
   "cell_type": "markdown",
   "id": "58b8a9bf-a37a-43d3-8535-1f411e0205c0",
   "metadata": {},
   "source": [
    "Now we have the `widget` backend, but we lost all the variables and libraries we previously imported. So we need to import them again.\n",
    "\n",
    "Import `numpy` and `plt` in the same cell, then make the array using `np.range`, and lastly try plotting this array."
   ]
  },
  {
   "cell_type": "code",
   "execution_count": null,
   "id": "c2b0a658-4ca9-4a3c-bb2c-dab97d55f23b",
   "metadata": {},
   "outputs": [],
   "source": [
    "import numpy as np\n",
    "import matplotlib.pyplot as plt"
   ]
  },
  {
   "cell_type": "code",
   "execution_count": null,
   "id": "b6018bec-7478-4c37-8057-813c1ba272de",
   "metadata": {},
   "outputs": [],
   "source": [
    "data = np.arange(1, 21)\n",
    "plt.plot(data)"
   ]
  },
  {
   "cell_type": "markdown",
   "id": "d66478eb-51df-409d-8fb0-b69e9e3d8527",
   "metadata": {},
   "source": [
    "This interactive plot has the same functionalities as the `qt` one we tried earlier."
   ]
  }
 ],
 "metadata": {
  "kernelspec": {
   "display_name": "Python 3 (ipykernel)",
   "language": "python",
   "name": "python3"
  },
  "language_info": {
   "codemirror_mode": {
    "name": "ipython",
    "version": 3
   },
   "file_extension": ".py",
   "mimetype": "text/x-python",
   "name": "python",
   "nbconvert_exporter": "python",
   "pygments_lexer": "ipython3",
   "version": "3.11.9"
  }
 },
 "nbformat": 4,
 "nbformat_minor": 5
}
